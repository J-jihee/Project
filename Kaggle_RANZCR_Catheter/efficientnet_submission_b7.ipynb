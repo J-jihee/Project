{
  "nbformat": 4,
  "nbformat_minor": 0,
  "metadata": {
    "kernelspec": {
      "name": "python3",
      "display_name": "Python 3",
      "language": "python"
    },
    "language_info": {
      "name": "python",
      "version": "3.7.9",
      "mimetype": "text/x-python",
      "codemirror_mode": {
        "name": "ipython",
        "version": 3
      },
      "pygments_lexer": "ipython3",
      "nbconvert_exporter": "python",
      "file_extension": ".py"
    },
    "colab": {
      "name": "efficientnet-submission-b7.ipynb",
      "provenance": []
    }
  },
  "cells": [
    {
      "cell_type": "markdown",
      "metadata": {
        "id": "9eA_AuA23Fnk"
      },
      "source": [
        "# RANZCR CLiP - Inference code"
      ]
    },
    {
      "cell_type": "markdown",
      "metadata": {
        "id": "jGuMBy9a3Fno"
      },
      "source": [
        "## module version\n",
        "- Tenserflow version 2.4.1\n",
        "- numpy version 1.17.5\n",
        "- Tenserflow version 2.4.1"
      ]
    },
    {
      "cell_type": "markdown",
      "metadata": {
        "id": "DadB0DXC3Fnq"
      },
      "source": [
        "## Install "
      ]
    },
    {
      "cell_type": "code",
      "metadata": {
        "trusted": true,
        "id": "ZI8cgslR3Fnr"
      },
      "source": [
        "!pip install /kaggle/input/kerasapplications -q\n",
        "!pip install /kaggle/input/efficientnet-keras-source-code/ -q --no-deps"
      ],
      "execution_count": null,
      "outputs": []
    },
    {
      "cell_type": "code",
      "metadata": {
        "_uuid": "8f2839f25d086af736a60e9eeb907d3b93b6e0e5",
        "_cell_guid": "b1076dfc-b9ad-4769-8c92-a6c4dae69d19",
        "trusted": true,
        "id": "D_IX8ZAL3Fns"
      },
      "source": [
        "import os\n",
        "\n",
        "import efficientnet.tfkeras as efn\n",
        "import numpy as np\n",
        "import pandas as pd\n",
        "import tensorflow as tf"
      ],
      "execution_count": null,
      "outputs": []
    },
    {
      "cell_type": "markdown",
      "metadata": {
        "id": "8SAi7rBm3Fnt"
      },
      "source": [
        "## helper functions:"
      ]
    },
    {
      "cell_type": "code",
      "metadata": {
        "_uuid": "d629ff2d2480ee46fbb7e2d37f6b5fab8052498a",
        "_cell_guid": "79c7e3d0-c299-4dcb-8224-4455121ee9b0",
        "trusted": true,
        "_kg_hide-output": false,
        "_kg_hide-input": true,
        "id": "8LHqp7TH3Fnu"
      },
      "source": [
        "def auto_select_accelerator():\n",
        "    try:\n",
        "        tpu = tf.distribute.cluster_resolver.TPUClusterResolver()\n",
        "        tf.config.experimental_connect_to_cluster(tpu)\n",
        "        tf.tpu.experimental.initialize_tpu_system(tpu)\n",
        "        strategy = tf.distribute.experimental.TPUStrategy(tpu)\n",
        "        print(\"Running on TPU:\", tpu.master())\n",
        "    except ValueError:\n",
        "        strategy = tf.distribute.get_strategy()\n",
        "    print(f\"Running on {strategy.num_replicas_in_sync} replicas\")\n",
        "    \n",
        "    return strategy\n",
        "\n",
        "\n",
        "def build_decoder(with_labels=True, target_size=(512, 512), ext='jpg'):\n",
        "    def decode(path):\n",
        "        file_bytes = tf.io.read_file(path)\n",
        "        if ext == 'png':\n",
        "            img = tf.image.decode_png(file_bytes, channels=3)\n",
        "        elif ext in ['jpg', 'jpeg']:\n",
        "            img = tf.image.decode_jpeg(file_bytes, channels=3)\n",
        "        else:\n",
        "            raise ValueError(\"Image extension not supported\")\n",
        "\n",
        "        img = tf.cast(img, tf.float32) / 255.0\n",
        "        img = tf.image.resize(img, target_size)\n",
        "\n",
        "        return img\n",
        "    \n",
        "    def decode_with_labels(path, label):\n",
        "        return decode(path), label\n",
        "    \n",
        "    return decode_with_labels if with_labels else decode\n",
        "\n",
        "\n",
        "def build_augmenter(with_labels=True):\n",
        "    def augment(img):\n",
        "        img = tf.image.random_flip_left_right(img)\n",
        "        img = tf.image.random_flip_up_down(img)\n",
        "        return img\n",
        "    \n",
        "    def augment_with_labels(img, label):\n",
        "        return augment(img), label\n",
        "    \n",
        "    return augment_with_labels if with_labels else augment\n",
        "\n",
        "\n",
        "def build_dataset(paths, labels=None, bsize=32, cache=True,\n",
        "                  decode_fn=None, augment_fn=None,\n",
        "                  augment=True, repeat=True, shuffle=1024, \n",
        "                  cache_dir=\"\"):\n",
        "    if cache_dir != \"\" and cache is True:\n",
        "        os.makedirs(cache_dir, exist_ok=True)\n",
        "    \n",
        "    if decode_fn is None:\n",
        "        decode_fn = build_decoder(labels is not None)\n",
        "    \n",
        "    if augment_fn is None:\n",
        "        augment_fn = build_augmenter(labels is not None)\n",
        "    \n",
        "    AUTO = tf.data.experimental.AUTOTUNE\n",
        "    slices = paths if labels is None else (paths, labels)\n",
        "    \n",
        "    dset = tf.data.Dataset.from_tensor_slices(slices)\n",
        "    dset = dset.map(decode_fn, num_parallel_calls=AUTO)\n",
        "    dset = dset.cache(cache_dir) if cache else dset\n",
        "    dset = dset.map(augment_fn, num_parallel_calls=AUTO) if augment else dset\n",
        "    dset = dset.repeat() if repeat else dset\n",
        "    dset = dset.shuffle(shuffle) if shuffle else dset\n",
        "    dset = dset.batch(bsize).prefetch(AUTO)\n",
        "    \n",
        "    return dset"
      ],
      "execution_count": null,
      "outputs": []
    },
    {
      "cell_type": "code",
      "metadata": {
        "trusted": true,
        "id": "kRo6yWiL3Fnv"
      },
      "source": [
        "COMPETITION_NAME = \"ranzcr-clip-catheter-line-classification\"\n",
        "strategy = auto_select_accelerator()\n",
        "BATCH_SIZE = strategy.num_replicas_in_sync * 16"
      ],
      "execution_count": null,
      "outputs": []
    },
    {
      "cell_type": "markdown",
      "metadata": {
        "id": "C0aGEkO33Fnw"
      },
      "source": [
        "### data 위치 및 정보"
      ]
    },
    {
      "cell_type": "code",
      "metadata": {
        "trusted": true,
        "id": "055rc3Ue3Fnx"
      },
      "source": [
        "IMSIZE = (224, 240, 260, 300, 380, 456, 528, 600, 512)\n",
        "\n",
        "load_dir = f\"/kaggle/input/{COMPETITION_NAME}/\"\n",
        "sub_df = pd.read_csv(load_dir + 'sample_submission.csv')\n",
        "test_paths = load_dir + \"test/\" + sub_df['StudyInstanceUID'] + '.jpg'\n",
        "\n",
        "# Get the multi-labels\n",
        "label_cols = sub_df.columns[1:]\n",
        "\n",
        "test_decoder = build_decoder(with_labels=False, target_size=(IMSIZE[7], IMSIZE[7]))\n",
        "dtest = build_dataset(\n",
        "    test_paths, bsize=BATCH_SIZE, repeat=False, \n",
        "    shuffle=False, augment=False, cache=False,\n",
        "    decode_fn=test_decoder\n",
        ")"
      ],
      "execution_count": null,
      "outputs": []
    },
    {
      "cell_type": "markdown",
      "metadata": {
        "id": "oX6L3Uvq3Fnx"
      },
      "source": [
        "## Load model and submit"
      ]
    },
    {
      "cell_type": "code",
      "metadata": {
        "trusted": true,
        "id": "SGBZr_Fz3Fny"
      },
      "source": [
        "def create_model(w, input_shape=[IMSIZE[7], IMSIZE[7],3], classes=11):\n",
        "    base_model = efn.EfficientNetB7(include_top=False, \n",
        "                                      weights=None, \n",
        "                                      input_shape=input_shape)\n",
        "    \n",
        "    # Model\n",
        "    \n",
        "    inputs = tf.keras.Input(shape=input_shape)\n",
        "    x = base_model(inputs)\n",
        "    x = tf.keras.layers.GlobalAveragePooling2D()(x)\n",
        "    x = tf.keras.layers.Dense(classes)(x)\n",
        "    outputs = tf.keras.layers.Activation('sigmoid', dtype='float32')(x) # Supports mixed-precision training\n",
        "    \n",
        "    model = tf.keras.Model(inputs, outputs)\n",
        "    \n",
        "    model.load_weights(w)\n",
        "    \n",
        "    return model"
      ],
      "execution_count": null,
      "outputs": []
    },
    {
      "cell_type": "code",
      "metadata": {
        "trusted": true,
        "id": "dAEA92Ce3Fnz"
      },
      "source": [
        "with strategy.scope():\n",
        "    model = create_model(\n",
        "        '../input/ranzcr-model-list/model_list/b7-model.h5'\n",
        "    )\n",
        "\n",
        "model.summary()"
      ],
      "execution_count": null,
      "outputs": []
    },
    {
      "cell_type": "code",
      "metadata": {
        "trusted": true,
        "id": "utrZJtx_3Fnz"
      },
      "source": [
        ""
      ],
      "execution_count": null,
      "outputs": []
    },
    {
      "cell_type": "code",
      "metadata": {
        "trusted": true,
        "id": "JqzzG5lz3Fn0"
      },
      "source": [
        "sub_df[label_cols] = model.predict(dtest, verbose=1)\n",
        "sub_df.to_csv('submission.csv', index=False)\n",
        "\n",
        "sub_df.head()"
      ],
      "execution_count": null,
      "outputs": []
    }
  ]
}